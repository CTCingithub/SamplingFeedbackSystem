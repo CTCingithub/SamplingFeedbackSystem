{
 "cells": [
  {
   "cell_type": "markdown",
   "metadata": {},
   "source": [
    "# Generate Dyanmical Regression Matrix\n"
   ]
  },
  {
   "cell_type": "markdown",
   "metadata": {},
   "source": [
    "Import Libraries\n"
   ]
  },
  {
   "cell_type": "code",
   "execution_count": 1,
   "metadata": {},
   "outputs": [],
   "source": [
    "import sympy as p\n",
    "import numpy as np\n",
    "import sys\n",
    "from SYMBOLIC import *"
   ]
  },
  {
   "cell_type": "markdown",
   "metadata": {},
   "source": [
    "## 1. Kinematics with PoE\n"
   ]
  },
  {
   "cell_type": "markdown",
   "metadata": {},
   "source": [
    "### 1.1 Variable Definitions\n"
   ]
  },
  {
   "cell_type": "markdown",
   "metadata": {},
   "source": [
    "Define time $t$ and angles.\n"
   ]
  },
  {
   "cell_type": "code",
   "execution_count": 2,
   "metadata": {},
   "outputs": [],
   "source": [
    "t = p.Symbol(\"t\")\n",
    "\n",
    "# Differentialable Variables\n",
    "theta_1_t = p.Function(\"theta_1\")(t)\n",
    "theta_2_t = p.Function(\"theta_2\")(t)\n",
    "\n",
    "# Undifferentialable Variables\n",
    "theta_1, theta_2 = p.symbols(\"theta_1 theta_2\")\n",
    "v_1, v_2 = p.symbols(\"v_1 v_2\")\n",
    "a_1, a_2 = p.symbols(\"a_1 a_2\")"
   ]
  },
  {
   "cell_type": "markdown",
   "metadata": {},
   "source": [
    "Define $\\vec{\\theta}$, $\\dot{\\vec{\\theta}}$ and $\\ddot{\\vec{\\theta}}$.\n"
   ]
  },
  {
   "cell_type": "code",
   "execution_count": 3,
   "metadata": {},
   "outputs": [],
   "source": [
    "theta = p.Matrix([theta_1, theta_2]).reshape(2, 1)\n",
    "theta_t = p.Matrix([theta_1_t, theta_2_t]).reshape(2, 1)\n",
    "\n",
    "\n",
    "v = p.Matrix([v_1, v_2]).reshape(2, 1)\n",
    "theta_dot = p.Matrix([theta_1_t.diff(t), theta_2_t.diff(t)]).reshape(2, 1)\n",
    "\n",
    "a = p.Matrix([a_1, a_2]).reshape(2, 1)\n",
    "theta_ddot = p.Matrix([theta_1_t.diff(t, 2), theta_2_t.diff(t, 2)]).reshape(2, 1)"
   ]
  },
  {
   "cell_type": "markdown",
   "metadata": {},
   "source": [
    "Define robot parameters.\n"
   ]
  },
  {
   "cell_type": "code",
   "execution_count": 4,
   "metadata": {},
   "outputs": [],
   "source": [
    "m1, m2, l1, l2, lc1, lc2, Jc1, Jc2, g = p.symbols(\"m1 m2 l1 l2 lc1 lc2 Jc1 Jc2 g\")\n",
    "\n",
    "# Jiang's Simulation\n",
    "# l1 = 1.7\n",
    "# l2 = 2.1\n",
    "# g = 9.8"
   ]
  },
  {
   "cell_type": "markdown",
   "metadata": {},
   "source": [
    "Define substitution functions from differentialable variables to undifferentialable variables."
   ]
  },
  {
   "cell_type": "code",
   "execution_count": 5,
   "metadata": {},
   "outputs": [],
   "source": [
    "def ThetaT2Theta(Expression):\n",
    "    return (\n",
    "        Expression.subs(theta_1_t.diff(t, 2), a_1)\n",
    "        .subs(theta_2_t.diff(t, 2), a_2)\n",
    "        .subs(theta_1_t.diff(t), v_1)\n",
    "        .subs(theta_2_t.diff(t), v_2)\n",
    "        .subs(theta_1_t, theta_1)\n",
    "        .subs(theta_2_t, theta_2)\n",
    "    )"
   ]
  },
  {
   "cell_type": "markdown",
   "metadata": {},
   "source": [
    "Define geometric parameters. We apply **Modified D-H** notation. Noting that $\\square_{i}$ refers to $\\square$ of joint $i$, $\\square_{ci}$ refers to $\\square$ of rod $i$.\n"
   ]
  },
  {
   "cell_type": "code",
   "execution_count": 6,
   "metadata": {},
   "outputs": [],
   "source": [
    "# Joint DH Parameters\n",
    "x0, x1, x2 = p.symbols(\"x_0 x_1 x_2\")\n",
    "y0, y1, y2 = p.symbols(\"y_0 y_1 y_2\")\n",
    "z0, z1, z2 = p.symbols(\"z_0 z_1 z_2\")\n",
    "\n",
    "# Link CoM Parameters\n",
    "xc1, xc2 = p.symbols(\"x_c1 x_c2\")\n",
    "yc1, yc2 = p.symbols(\"y_c1 y_c2\")\n",
    "zc1, zc2 = p.symbols(\"z_c1 z_c2\")"
   ]
  },
  {
   "cell_type": "markdown",
   "metadata": {},
   "source": [
    "From the configuration, we got"
   ]
  },
  {
   "cell_type": "code",
   "execution_count": 7,
   "metadata": {},
   "outputs": [],
   "source": [
    "# Joint Parameters\n",
    "x0, y0, z0 = 0, 0, 0\n",
    "x1, y1, z1 = 0, 0, 0\n",
    "x2, y2, z2 = l1, 0, 0\n",
    "\n",
    "# CoM Parameters\n",
    "xc1, yc1, zc1 = lc1, 0, 0\n",
    "xc2, yc2, zc2 = lc2, 0, 0\n",
    "\n",
    "# RPY Angles\n",
    "RPY_0_1 = [0, 0, 0]\n",
    "RPY_1_2 = [0, 0, 0]\n",
    "RPY_1_c1 = [0, 0, 0]\n",
    "RPY_2_c2 = [0, 0, 0]"
   ]
  },
  {
   "cell_type": "markdown",
   "metadata": {},
   "source": [
    "### 1.2 Forward Kinematics\n"
   ]
  },
  {
   "cell_type": "markdown",
   "metadata": {},
   "source": [
    "Transformation matrixes at $\\vec{0}$. `T_i_j_0` refers to $T_{i}^{j} (\\vec{0}) $.\n"
   ]
  },
  {
   "cell_type": "code",
   "execution_count": 8,
   "metadata": {},
   "outputs": [],
   "source": [
    "T_1_0_0 = Translation_4x4(p.Matrix([x1, y1, z1])) @ Rotation_RPY_4x4(RPY_0_1)\n",
    "T_2_1_0 = Translation_4x4(p.Matrix([x2, y2, z2])) @ Rotation_RPY_4x4(RPY_1_2)"
   ]
  },
  {
   "cell_type": "markdown",
   "metadata": {},
   "source": [
    "Joint positions at $\\vec{0}$."
   ]
  },
  {
   "cell_type": "code",
   "execution_count": 9,
   "metadata": {},
   "outputs": [],
   "source": [
    "def Position(Transformation_i_j, P_i=p.Matrix([0, 0, 0, 1])):\n",
    "    return (Transformation_i_j @ P_i)[:3, :]\n",
    "\n",
    "\n",
    "T_1_0_0 = T_1_0_0\n",
    "T_2_0_0 = T_1_0_0 @ T_2_1_0\n",
    "\n",
    "r_1_0 = Position(T_1_0_0)\n",
    "r_2_0 = Position(T_2_0_0)"
   ]
  },
  {
   "cell_type": "markdown",
   "metadata": {},
   "source": [
    "Joint poses at $\\vec{0}$."
   ]
  },
  {
   "cell_type": "code",
   "execution_count": 10,
   "metadata": {},
   "outputs": [],
   "source": [
    "omega_1_0 = p.Matrix([0, 0, 1]).reshape(3, 1)\n",
    "omega_2_0 = Rotation_RPY_4x4(RPY_1_2)[:3, :3] @ omega_1_0"
   ]
  },
  {
   "cell_type": "markdown",
   "metadata": {},
   "source": [
    "Joint unitary twists at $\\vec{0}$."
   ]
  },
  {
   "cell_type": "code",
   "execution_count": 11,
   "metadata": {},
   "outputs": [],
   "source": [
    "xi_1_0 = Joint2Twist(omega_1_0, r_1_0)\n",
    "xi_2_0 = Joint2Twist(omega_2_0, r_2_0)"
   ]
  },
  {
   "cell_type": "markdown",
   "metadata": {},
   "source": [
    "Transformation matrixes at $\\vec{\\theta}$ computed with PoE.\n"
   ]
  },
  {
   "cell_type": "code",
   "execution_count": 12,
   "metadata": {},
   "outputs": [],
   "source": [
    "T_1_0 = MatrixExp_4x4(xi_1_0, theta_1_t) @ T_1_0_0\n",
    "T_2_0 = MatrixExp_4x4(xi_1_0, theta_1_t) @ MatrixExp_4x4(xi_2_0, theta_2_t) @ T_2_0_0"
   ]
  },
  {
   "cell_type": "markdown",
   "metadata": {},
   "source": [
    "Joint positions and poses at $\\vec{\\theta}$."
   ]
  },
  {
   "cell_type": "code",
   "execution_count": 13,
   "metadata": {},
   "outputs": [],
   "source": [
    "# Positions\n",
    "r_1 = Position(T_1_0)\n",
    "r_2 = Position(T_2_0)\n",
    "\n",
    "# Poses\n",
    "omega_1 = p.simplify(MatrixExp_3x3(omega_1_0, theta_1_t) @ omega_1_0)\n",
    "omega_2 = p.simplify(\n",
    "    MatrixExp_3x3(omega_1_0, theta_1_t)\n",
    "    @ MatrixExp_3x3(omega_2_0, theta_2_t)\n",
    "    @ omega_2_0\n",
    ")"
   ]
  },
  {
   "cell_type": "markdown",
   "metadata": {},
   "source": [
    "Spatial velocities at $\\vec{\\theta}$.\n"
   ]
  },
  {
   "cell_type": "code",
   "execution_count": 14,
   "metadata": {},
   "outputs": [],
   "source": [
    "SpatialVelocity_Rot_1 = p.simplify(omega_1 * theta_1_t.diff(t))\n",
    "SpatialVelocity_Rot_2 = p.simplify(\n",
    "    omega_1 * theta_1_t.diff(t) + omega_2 * theta_2_t.diff(t)\n",
    ")\n",
    "SpatialVelocity_Trans_1 = p.simplify(p.simplify(r_1).diff(t))\n",
    "SpatialVelocity_Trans_2 = p.simplify(p.simplify(r_2).diff(t))\n",
    "\n",
    "SpatialVelocity_1 = SpatialVelocity_Rot_1.col_join(SpatialVelocity_Trans_1)\n",
    "SpatialVelocity_2 = SpatialVelocity_Rot_2.col_join(SpatialVelocity_Trans_2)"
   ]
  },
  {
   "cell_type": "markdown",
   "metadata": {},
   "source": [
    "## 2. Dynamical Regression Matrix\n"
   ]
  },
  {
   "cell_type": "markdown",
   "metadata": {},
   "source": [
    "Dynamical parameter vectors $\\vec{p}_{i}$.\n"
   ]
  },
  {
   "cell_type": "code",
   "execution_count": 15,
   "metadata": {},
   "outputs": [],
   "source": [
    "p_1 = p.Matrix(\n",
    "    [\n",
    "        Jc1 / 2 + m1 * (yc1**2 + zc1**2),\n",
    "        -(0 + m1 * xc1 * yc1),\n",
    "        -(0 + m1 * xc1 * zc1),\n",
    "        Jc1 / 2 + m1 * (xc1**2 + zc1**2),\n",
    "        -(0 + m1 * yc1 * zc1),\n",
    "        Jc1 + m1 * (xc1**2 + yc1**2),\n",
    "        m1 * xc1,\n",
    "        m1 * yc1,\n",
    "        m1 * zc1,\n",
    "        m1,\n",
    "    ]\n",
    ").reshape(10, 1)\n",
    "p_2 = p.Matrix(\n",
    "    [\n",
    "        Jc2 / 2 + m2 * (yc2**2 + zc2**2),\n",
    "        -(0 + m2 * xc2 * yc2),\n",
    "        -(0 + m2 * xc2 * zc2),\n",
    "        Jc2 / 2 + m2 * (xc2**2 + zc2**2),\n",
    "        -(0 + m2 * yc2 * zc2),\n",
    "        Jc2 + m2 * (xc2**2 + yc2**2),\n",
    "        m2 * xc2,\n",
    "        m2 * yc2,\n",
    "        m2 * zc2,\n",
    "        m2,\n",
    "    ]\n",
    ").reshape(10, 1)\n",
    "p_vec = p_1.col_join(p_2)"
   ]
  },
  {
   "cell_type": "markdown",
   "metadata": {},
   "source": [
    "$\\tilde{T}^{i}$ s.\n"
   ]
  },
  {
   "cell_type": "code",
   "execution_count": 16,
   "metadata": {},
   "outputs": [],
   "source": [
    "Ttilde_1 = p.simplify(Ttilde_10x1(SpatialVelocity_1, T_1_0))\n",
    "Ttilde_2 = p.simplify(Ttilde_10x1(SpatialVelocity_2, T_2_0))"
   ]
  },
  {
   "cell_type": "markdown",
   "metadata": {},
   "source": [
    "Verify $\\tilde{T}^{i}$ s.\n"
   ]
  },
  {
   "cell_type": "code",
   "execution_count": 17,
   "metadata": {},
   "outputs": [
    {
     "data": {
      "text/latex": [
       "$\\displaystyle \\left[\\begin{matrix}\\frac{l_{1}^{2} m_{2} v_{1}^{2}}{2} + l_{1} lc_{2} m_{2} v_{1} \\left(v_{1} + v_{2}\\right) \\cos{\\left(\\theta_{2} \\right)} + \\frac{\\left(Jc_{2} + lc_{2}^{2} m_{2}\\right) \\left(v_{1} + v_{2}\\right)^{2}}{2}\\end{matrix}\\right]$"
      ],
      "text/plain": [
       "Matrix([[l1**2*m2*v_1**2/2 + l1*lc2*m2*v_1*(v_1 + v_2)*cos(theta_2) + (Jc2 + lc2**2*m2)*(v_1 + v_2)**2/2]])"
      ]
     },
     "execution_count": 17,
     "metadata": {},
     "output_type": "execute_result"
    }
   ],
   "source": [
    "p.simplify(ThetaT2Theta(Ttilde_2.T @ p_2))"
   ]
  },
  {
   "cell_type": "markdown",
   "metadata": {},
   "source": [
    "$\\tilde{V}^{i}$ s.\n"
   ]
  },
  {
   "cell_type": "code",
   "execution_count": 18,
   "metadata": {},
   "outputs": [],
   "source": [
    "Vtilde_1 = p.simplify(Vtilde_10x1(r_1, p.Matrix([0, -g, 0]).reshape(3, 1), T_1_0))\n",
    "Vtilde_2 = p.simplify(Vtilde_10x1(r_2, p.Matrix([0, -g, 0]).reshape(3, 1), T_2_0))"
   ]
  },
  {
   "cell_type": "markdown",
   "metadata": {},
   "source": [
    "Verify $\\tilde{V}^{i}$ s.\n"
   ]
  },
  {
   "cell_type": "code",
   "execution_count": 19,
   "metadata": {},
   "outputs": [
    {
     "data": {
      "text/latex": [
       "$\\displaystyle \\left[\\begin{matrix}g m_{2} \\left(l_{1} \\sin{\\left(\\theta_{1} \\right)} + lc_{2} \\sin{\\left(\\theta_{1} + \\theta_{2} \\right)}\\right)\\end{matrix}\\right]$"
      ],
      "text/plain": [
       "Matrix([[g*m2*(l1*sin(theta_1) + lc2*sin(theta_1 + theta_2))]])"
      ]
     },
     "execution_count": 19,
     "metadata": {},
     "output_type": "execute_result"
    }
   ],
   "source": [
    "p.simplify(ThetaT2Theta(Vtilde_2.T @ p_2))"
   ]
  },
  {
   "cell_type": "markdown",
   "metadata": {},
   "source": [
    "$\\tilde{T}$ and $\\tilde{V}$.\n"
   ]
  },
  {
   "cell_type": "code",
   "execution_count": 20,
   "metadata": {},
   "outputs": [],
   "source": [
    "Ttilde = Ttilde_1.col_join(Ttilde_2)\n",
    "Vtilde = Vtilde_1.col_join(Vtilde_2)"
   ]
  },
  {
   "cell_type": "markdown",
   "metadata": {},
   "source": [
    "Dynamical regression matrix $R_{\\text{Full}}$.\n"
   ]
  },
  {
   "cell_type": "code",
   "execution_count": 21,
   "metadata": {},
   "outputs": [
    {
     "data": {
      "text/latex": [
       "$\\displaystyle \\left[\\begin{array}{cccccccccccccccccccc}0 & 0 & 0 & 0 & 0 & a_{1} & g \\cos{\\left(\\theta_{1} \\right)} & - g \\sin{\\left(\\theta_{1} \\right)} & 0 & 0 & 0 & 0 & 0 & 0 & 0 & a_{1} + a_{2} & 2 a_{1} l_{1} \\cos{\\left(\\theta_{2} \\right)} + a_{2} l_{1} \\cos{\\left(\\theta_{2} \\right)} + g \\cos{\\left(\\theta_{1} + \\theta_{2} \\right)} - 2 l_{1} v_{1} v_{2} \\sin{\\left(\\theta_{2} \\right)} - l_{1} v_{2}^{2} \\sin{\\left(\\theta_{2} \\right)} & - 2 a_{1} l_{1} \\sin{\\left(\\theta_{2} \\right)} - a_{2} l_{1} \\sin{\\left(\\theta_{2} \\right)} - g \\sin{\\left(\\theta_{1} + \\theta_{2} \\right)} - 2 l_{1} v_{1} v_{2} \\cos{\\left(\\theta_{2} \\right)} - l_{1} v_{2}^{2} \\cos{\\left(\\theta_{2} \\right)} & 0 & l_{1} \\left(a_{1} l_{1} + g \\cos{\\left(\\theta_{1} \\right)}\\right)\\\\0 & 0 & 0 & 0 & 0 & 0 & 0 & 0 & 0 & 0 & 0 & 0 & 0 & 0 & 0 & a_{1} + a_{2} & a_{1} l_{1} \\cos{\\left(\\theta_{2} \\right)} + g \\cos{\\left(\\theta_{1} + \\theta_{2} \\right)} + l_{1} v_{1}^{2} \\sin{\\left(\\theta_{2} \\right)} & - a_{1} l_{1} \\sin{\\left(\\theta_{2} \\right)} - g \\sin{\\left(\\theta_{1} + \\theta_{2} \\right)} + l_{1} v_{1}^{2} \\cos{\\left(\\theta_{2} \\right)} & 0 & 0\\end{array}\\right]$"
      ],
      "text/plain": [
       "Matrix([\n",
       "[0, 0, 0, 0, 0, a_1, g*cos(theta_1), -g*sin(theta_1), 0, 0, 0, 0, 0, 0, 0, a_1 + a_2, 2*a_1*l1*cos(theta_2) + a_2*l1*cos(theta_2) + g*cos(theta_1 + theta_2) - 2*l1*v_1*v_2*sin(theta_2) - l1*v_2**2*sin(theta_2), -2*a_1*l1*sin(theta_2) - a_2*l1*sin(theta_2) - g*sin(theta_1 + theta_2) - 2*l1*v_1*v_2*cos(theta_2) - l1*v_2**2*cos(theta_2), 0, l1*(a_1*l1 + g*cos(theta_1))],\n",
       "[0, 0, 0, 0, 0,   0,              0,               0, 0, 0, 0, 0, 0, 0, 0, a_1 + a_2,                                                     a_1*l1*cos(theta_2) + g*cos(theta_1 + theta_2) + l1*v_1**2*sin(theta_2),                                                     -a_1*l1*sin(theta_2) - g*sin(theta_1 + theta_2) + l1*v_1**2*cos(theta_2), 0,                            0]])"
      ]
     },
     "execution_count": 21,
     "metadata": {},
     "output_type": "execute_result"
    }
   ],
   "source": [
    "R_Full = p.simplify(\n",
    "    ThetaT2Theta(\n",
    "        VecDiff(Ttilde, theta_dot).diff(t)\n",
    "        - VecDiff(Ttilde, theta_t)\n",
    "        + VecDiff(Vtilde, theta_t)\n",
    "    )\n",
    ")\n",
    "R_Full"
   ]
  },
  {
   "cell_type": "code",
   "execution_count": 22,
   "metadata": {},
   "outputs": [
    {
     "name": "stdout",
     "output_type": "stream",
     "text": [
      "\\left[\\begin{array}{cccccccccccccccccccc}0 & 0 & 0 & 0 & 0 & a_{1} & g \\cos{\\left(\\theta_{1} \\right)} & - g \\sin{\\left(\\theta_{1} \\right)} & 0 & 0 & 0 & 0 & 0 & 0 & 0 & a_{1} + a_{2} & 2 a_{1} l_{1} \\cos{\\left(\\theta_{2} \\right)} + a_{2} l_{1} \\cos{\\left(\\theta_{2} \\right)} + g \\cos{\\left(\\theta_{1} + \\theta_{2} \\right)} - 2 l_{1} v_{1} v_{2} \\sin{\\left(\\theta_{2} \\right)} - l_{1} v_{2}^{2} \\sin{\\left(\\theta_{2} \\right)} & - 2 a_{1} l_{1} \\sin{\\left(\\theta_{2} \\right)} - a_{2} l_{1} \\sin{\\left(\\theta_{2} \\right)} - g \\sin{\\left(\\theta_{1} + \\theta_{2} \\right)} - 2 l_{1} v_{1} v_{2} \\cos{\\left(\\theta_{2} \\right)} - l_{1} v_{2}^{2} \\cos{\\left(\\theta_{2} \\right)} & 0 & l_{1} \\left(a_{1} l_{1} + g \\cos{\\left(\\theta_{1} \\right)}\\right)\\\\0 & 0 & 0 & 0 & 0 & 0 & 0 & 0 & 0 & 0 & 0 & 0 & 0 & 0 & 0 & a_{1} + a_{2} & a_{1} l_{1} \\cos{\\left(\\theta_{2} \\right)} + g \\cos{\\left(\\theta_{1} + \\theta_{2} \\right)} + l_{1} v_{1}^{2} \\sin{\\left(\\theta_{2} \\right)} & - a_{1} l_{1} \\sin{\\left(\\theta_{2} \\right)} - g \\sin{\\left(\\theta_{1} + \\theta_{2} \\right)} + l_{1} v_{1}^{2} \\cos{\\left(\\theta_{2} \\right)} & 0 & 0\\end{array}\\right]\n"
     ]
    }
   ],
   "source": [
    "print(p.latex(R_Full))"
   ]
  },
  {
   "cell_type": "markdown",
   "metadata": {},
   "source": [
    "Remove zero columns in $R_{\\text{Full}}$ to get $R$.\n"
   ]
  },
  {
   "cell_type": "code",
   "execution_count": 23,
   "metadata": {},
   "outputs": [
    {
     "name": "stdout",
     "output_type": "stream",
     "text": [
      "R's shape is (2, 7)\n",
      "Non-zero columns are [6, 7, 8, 16, 17, 18, 20]\n"
     ]
    },
    {
     "data": {
      "text/latex": [
       "$\\displaystyle \\left[\\begin{matrix}a_{1} & g \\cos{\\left(\\theta_{1} \\right)} & - g \\sin{\\left(\\theta_{1} \\right)} & a_{1} + a_{2} & 2 a_{1} l_{1} \\cos{\\left(\\theta_{2} \\right)} + a_{2} l_{1} \\cos{\\left(\\theta_{2} \\right)} + g \\cos{\\left(\\theta_{1} + \\theta_{2} \\right)} - 2 l_{1} v_{1} v_{2} \\sin{\\left(\\theta_{2} \\right)} - l_{1} v_{2}^{2} \\sin{\\left(\\theta_{2} \\right)} & - 2 a_{1} l_{1} \\sin{\\left(\\theta_{2} \\right)} - a_{2} l_{1} \\sin{\\left(\\theta_{2} \\right)} - g \\sin{\\left(\\theta_{1} + \\theta_{2} \\right)} - 2 l_{1} v_{1} v_{2} \\cos{\\left(\\theta_{2} \\right)} - l_{1} v_{2}^{2} \\cos{\\left(\\theta_{2} \\right)} & l_{1} \\left(a_{1} l_{1} + g \\cos{\\left(\\theta_{1} \\right)}\\right)\\\\0 & 0 & 0 & a_{1} + a_{2} & a_{1} l_{1} \\cos{\\left(\\theta_{2} \\right)} + g \\cos{\\left(\\theta_{1} + \\theta_{2} \\right)} + l_{1} v_{1}^{2} \\sin{\\left(\\theta_{2} \\right)} & - a_{1} l_{1} \\sin{\\left(\\theta_{2} \\right)} - g \\sin{\\left(\\theta_{1} + \\theta_{2} \\right)} + l_{1} v_{1}^{2} \\cos{\\left(\\theta_{2} \\right)} & 0\\end{matrix}\\right]$"
      ],
      "text/plain": [
       "Matrix([\n",
       "[a_1, g*cos(theta_1), -g*sin(theta_1), a_1 + a_2, 2*a_1*l1*cos(theta_2) + a_2*l1*cos(theta_2) + g*cos(theta_1 + theta_2) - 2*l1*v_1*v_2*sin(theta_2) - l1*v_2**2*sin(theta_2), -2*a_1*l1*sin(theta_2) - a_2*l1*sin(theta_2) - g*sin(theta_1 + theta_2) - 2*l1*v_1*v_2*cos(theta_2) - l1*v_2**2*cos(theta_2), l1*(a_1*l1 + g*cos(theta_1))],\n",
       "[  0,              0,               0, a_1 + a_2,                                                     a_1*l1*cos(theta_2) + g*cos(theta_1 + theta_2) + l1*v_1**2*sin(theta_2),                                                     -a_1*l1*sin(theta_2) - g*sin(theta_1 + theta_2) + l1*v_1**2*cos(theta_2),                            0]])"
      ]
     },
     "execution_count": 23,
     "metadata": {},
     "output_type": "execute_result"
    }
   ],
   "source": [
    "cols = [\n",
    "    i for i in range(R_Full.shape[1]) if R_Full[:, i] != p.zeros(R_Full.shape[0], 1)\n",
    "]\n",
    "R = R_Full[:, cols]\n",
    "print(\"R's shape is\", R.shape)\n",
    "print(\"Non-zero columns are\", [i + 1 for i in cols])\n",
    "R"
   ]
  },
  {
   "cell_type": "markdown",
   "metadata": {},
   "source": [
    "## 3. Generate $M \\left( \\vec{q} \\right)$, $C \\left( \\vec{q}, \\dot{\\vec{q}} \\right)$, and $G \\left( \\vec{q} \\right)$\n"
   ]
  },
  {
   "cell_type": "markdown",
   "metadata": {},
   "source": [
    "Total kinematic and potential energy."
   ]
  },
  {
   "cell_type": "code",
   "execution_count": 24,
   "metadata": {},
   "outputs": [],
   "source": [
    "T = Ttilde.T @ p_vec\n",
    "V = Vtilde.T @ p_vec"
   ]
  },
  {
   "cell_type": "markdown",
   "metadata": {},
   "source": [
    "Lagrangian."
   ]
  },
  {
   "cell_type": "code",
   "execution_count": 25,
   "metadata": {},
   "outputs": [
    {
     "data": {
      "text/latex": [
       "$\\displaystyle \\left[\\begin{matrix}- g l_{1} m_{2} \\sin{\\left(\\theta_{1}{\\left(t \\right)} \\right)} - g lc_{1} m_{1} \\sin{\\left(\\theta_{1}{\\left(t \\right)} \\right)} - g lc_{2} m_{2} \\sin{\\left(\\theta_{1}{\\left(t \\right)} + \\theta_{2}{\\left(t \\right)} \\right)} + \\frac{l_{1}^{2} m_{2} \\left(\\frac{d}{d t} \\theta_{1}{\\left(t \\right)}\\right)^{2}}{2} + l_{1} lc_{2} m_{2} \\left(\\frac{d}{d t} \\theta_{1}{\\left(t \\right)} + \\frac{d}{d t} \\theta_{2}{\\left(t \\right)}\\right) \\cos{\\left(\\theta_{2}{\\left(t \\right)} \\right)} \\frac{d}{d t} \\theta_{1}{\\left(t \\right)} + \\frac{\\left(Jc_{1} + lc_{1}^{2} m_{1}\\right) \\left(\\frac{d}{d t} \\theta_{1}{\\left(t \\right)}\\right)^{2}}{2} + \\frac{\\left(Jc_{2} + lc_{2}^{2} m_{2}\\right) \\left(\\frac{d}{d t} \\theta_{1}{\\left(t \\right)} + \\frac{d}{d t} \\theta_{2}{\\left(t \\right)}\\right)^{2}}{2}\\end{matrix}\\right]$"
      ],
      "text/plain": [
       "Matrix([[-g*l1*m2*sin(theta_1(t)) - g*lc1*m1*sin(theta_1(t)) - g*lc2*m2*sin(theta_1(t) + theta_2(t)) + l1**2*m2*Derivative(theta_1(t), t)**2/2 + l1*lc2*m2*(Derivative(theta_1(t), t) + Derivative(theta_2(t), t))*cos(theta_2(t))*Derivative(theta_1(t), t) + (Jc1 + lc1**2*m1)*Derivative(theta_1(t), t)**2/2 + (Jc2 + lc2**2*m2)*(Derivative(theta_1(t), t) + Derivative(theta_2(t), t))**2/2]])"
      ]
     },
     "execution_count": 25,
     "metadata": {},
     "output_type": "execute_result"
    }
   ],
   "source": [
    "L = T - V\n",
    "L"
   ]
  },
  {
   "cell_type": "markdown",
   "metadata": {},
   "source": [
    "$M$ matrix."
   ]
  },
  {
   "cell_type": "code",
   "execution_count": 26,
   "metadata": {},
   "outputs": [
    {
     "data": {
      "text/latex": [
       "$\\displaystyle \\left[\\begin{matrix}Jc_{1} + Jc_{2} + l_{1}^{2} m_{2} + 2 l_{1} lc_{2} m_{2} \\cos{\\left(\\theta_{2} \\right)} + lc_{1}^{2} m_{1} + lc_{2}^{2} m_{2} & Jc_{2} + l_{1} lc_{2} m_{2} \\cos{\\left(\\theta_{2} \\right)} + lc_{2}^{2} m_{2}\\\\Jc_{2} + l_{1} lc_{2} m_{2} \\cos{\\left(\\theta_{2} \\right)} + lc_{2}^{2} m_{2} & Jc_{2} + lc_{2}^{2} m_{2}\\end{matrix}\\right]$"
      ],
      "text/plain": [
       "Matrix([\n",
       "[Jc1 + Jc2 + l1**2*m2 + 2*l1*lc2*m2*cos(theta_2) + lc1**2*m1 + lc2**2*m2, Jc2 + l1*lc2*m2*cos(theta_2) + lc2**2*m2],\n",
       "[                               Jc2 + l1*lc2*m2*cos(theta_2) + lc2**2*m2,                          Jc2 + lc2**2*m2]])"
      ]
     },
     "execution_count": 26,
     "metadata": {},
     "output_type": "execute_result"
    }
   ],
   "source": [
    "import itertools\n",
    "\n",
    "temp = ThetaT2Theta(T.jacobian(theta_dot).diff(t)).subs(v_1, 0).subs(v_2, 0)\n",
    "\n",
    "M = p.zeros(2, 2)\n",
    "for i, j in itertools.product(range(2), range(2)):\n",
    "    M[i, j] = temp[i].diff(a[j])\n",
    "\n",
    "M"
   ]
  },
  {
   "cell_type": "code",
   "execution_count": 27,
   "metadata": {},
   "outputs": [
    {
     "name": "stdout",
     "output_type": "stream",
     "text": [
      "Jc2 + lc2.^2.*m2\n"
     ]
    }
   ],
   "source": [
    "print(p.octave_code(M[1, 1]))"
   ]
  },
  {
   "cell_type": "markdown",
   "metadata": {},
   "source": [
    "$C$ matrix."
   ]
  },
  {
   "cell_type": "code",
   "execution_count": 28,
   "metadata": {},
   "outputs": [
    {
     "data": {
      "text/latex": [
       "$\\displaystyle \\left[\\begin{matrix}- l_{1} lc_{2} m_{2} v_{2} \\sin{\\left(\\theta_{2} \\right)} & - l_{1} lc_{2} m_{2} v_{1} \\sin{\\left(\\theta_{2} \\right)} - l_{1} lc_{2} m_{2} v_{2} \\sin{\\left(\\theta_{2} \\right)}\\\\l_{1} lc_{2} m_{2} v_{1} \\sin{\\left(\\theta_{2} \\right)} & 0\\end{matrix}\\right]$"
      ],
      "text/plain": [
       "Matrix([\n",
       "[-l1*lc2*m2*v_2*sin(theta_2), -l1*lc2*m2*v_1*sin(theta_2) - l1*lc2*m2*v_2*sin(theta_2)],\n",
       "[ l1*lc2*m2*v_1*sin(theta_2),                                                        0]])"
      ]
     },
     "execution_count": 28,
     "metadata": {},
     "output_type": "execute_result"
    }
   ],
   "source": [
    "C = p.zeros(2, 2)\n",
    "for i, j, k in itertools.product(range(2), range(2), range(2)):\n",
    "    C[i, j] += (\n",
    "        v[k]\n",
    "        / 2\n",
    "        * (M[i, k].diff(theta[j]) + M[i, j].diff(theta[k]) - M[j, k].diff(theta[i]))\n",
    "    )\n",
    "\n",
    "C"
   ]
  },
  {
   "cell_type": "code",
   "execution_count": 49,
   "metadata": {},
   "outputs": [],
   "source": [
    "CVec = p.simplify(C @ v)"
   ]
  },
  {
   "cell_type": "code",
   "execution_count": 51,
   "metadata": {},
   "outputs": [
    {
     "name": "stdout",
     "output_type": "stream",
     "text": [
      "l1.*lc2.*m2.*v_1.^2.*sin(theta_2)\n"
     ]
    }
   ],
   "source": [
    "print(p.octave_code(CVec[1]))"
   ]
  },
  {
   "cell_type": "markdown",
   "metadata": {},
   "source": [
    "$G$ vector."
   ]
  },
  {
   "cell_type": "code",
   "execution_count": 29,
   "metadata": {},
   "outputs": [
    {
     "data": {
      "text/latex": [
       "$\\displaystyle \\left[\\begin{matrix}g l_{1} m_{2} \\cos{\\left(\\theta_{1} \\right)} + g lc_{1} m_{1} \\cos{\\left(\\theta_{1} \\right)} + g lc_{2} m_{2} \\cos{\\left(\\theta_{1} + \\theta_{2} \\right)}\\\\g lc_{2} m_{2} \\cos{\\left(\\theta_{1} + \\theta_{2} \\right)}\\end{matrix}\\right]$"
      ],
      "text/plain": [
       "Matrix([\n",
       "[g*l1*m2*cos(theta_1) + g*lc1*m1*cos(theta_1) + g*lc2*m2*cos(theta_1 + theta_2)],\n",
       "[                                               g*lc2*m2*cos(theta_1 + theta_2)]])"
      ]
     },
     "execution_count": 29,
     "metadata": {},
     "output_type": "execute_result"
    }
   ],
   "source": [
    "G = ThetaT2Theta(V).jacobian(theta).T\n",
    "G"
   ]
  },
  {
   "cell_type": "code",
   "execution_count": 42,
   "metadata": {},
   "outputs": [
    {
     "name": "stdout",
     "output_type": "stream",
     "text": [
      "g.*lc2.*m2.*cos(theta_1 + theta_2)\n"
     ]
    }
   ],
   "source": [
    "print(p.octave_code(G[1]))"
   ]
  },
  {
   "cell_type": "markdown",
   "metadata": {},
   "source": [
    "Check $R_{\\text{Full}}$ correctness."
   ]
  },
  {
   "cell_type": "code",
   "execution_count": 30,
   "metadata": {},
   "outputs": [
    {
     "data": {
      "text/latex": [
       "$\\displaystyle \\left[\\begin{matrix}0\\\\0\\end{matrix}\\right]$"
      ],
      "text/plain": [
       "Matrix([\n",
       "[0],\n",
       "[0]])"
      ]
     },
     "execution_count": 30,
     "metadata": {},
     "output_type": "execute_result"
    }
   ],
   "source": [
    "p.simplify(M @ a + C @ v + G - R_Full @ p_vec)"
   ]
  },
  {
   "cell_type": "markdown",
   "metadata": {},
   "source": [
    "## 4. Generate $Y \\left( \\vec{q}, \\dot{\\vec{q}}, \\vec{\\phi}, \\vec{\\psi} \\right)$"
   ]
  },
  {
   "cell_type": "markdown",
   "metadata": {},
   "source": [
    "Define $\\vec{\\phi}$ and $\\vec{\\psi}$."
   ]
  },
  {
   "cell_type": "code",
   "execution_count": 31,
   "metadata": {},
   "outputs": [],
   "source": [
    "phi_1 = p.Symbol(\"phi_1\")\n",
    "phi_2 = p.Symbol(\"phi_2\")\n",
    "psi_1 = p.Symbol(\"psi_1\")\n",
    "psi_2 = p.Symbol(\"psi_2\")\n",
    "phi = p.Matrix([phi_1, phi_2]).reshape(2, 1)\n",
    "psi = p.Matrix([psi_1, psi_2]).reshape(2, 1)"
   ]
  },
  {
   "cell_type": "markdown",
   "metadata": {},
   "source": [
    "Substitute $\\vec{v}$ and $\\vec{a}$ relevant terms with $\\vec{\\phi}$ and $\\vec{\\psi}$ included terms"
   ]
  },
  {
   "cell_type": "code",
   "execution_count": 32,
   "metadata": {},
   "outputs": [],
   "source": [
    "Y_Full = RMat2YMat(R_Full, v, a, phi, psi)\n",
    "Y = RMat2YMat(R, v, a, phi, psi)"
   ]
  },
  {
   "cell_type": "markdown",
   "metadata": {},
   "source": [
    "$Y_{\\text{Full}}$"
   ]
  },
  {
   "cell_type": "code",
   "execution_count": 33,
   "metadata": {},
   "outputs": [
    {
     "data": {
      "text/latex": [
       "$\\displaystyle \\left[\\begin{array}{cccccccccccccccccccc}0 & 0 & 0 & 0 & 0 & \\psi_{1} & g \\cos{\\left(\\theta_{1} \\right)} & - g \\sin{\\left(\\theta_{1} \\right)} & 0 & 0 & 0 & 0 & 0 & 0 & 0 & \\psi_{1} + \\psi_{2} & g \\cos{\\left(\\theta_{1} + \\theta_{2} \\right)} - 1.0 l_{1} \\phi_{2} v_{2} \\sin{\\left(\\theta_{2} \\right)} + 2 l_{1} \\psi_{1} \\cos{\\left(\\theta_{2} \\right)} + l_{1} \\psi_{2} \\cos{\\left(\\theta_{2} \\right)} - 2 l_{1} \\left(0.5 \\phi_{1} v_{2} + 0.5 \\phi_{2} v_{1}\\right) \\sin{\\left(\\theta_{2} \\right)} & - g \\sin{\\left(\\theta_{1} + \\theta_{2} \\right)} - 1.0 l_{1} \\phi_{2} v_{2} \\cos{\\left(\\theta_{2} \\right)} - 2 l_{1} \\psi_{1} \\sin{\\left(\\theta_{2} \\right)} - l_{1} \\psi_{2} \\sin{\\left(\\theta_{2} \\right)} - 2 l_{1} \\left(0.5 \\phi_{1} v_{2} + 0.5 \\phi_{2} v_{1}\\right) \\cos{\\left(\\theta_{2} \\right)} & 0 & l_{1} \\left(g \\cos{\\left(\\theta_{1} \\right)} + l_{1} \\psi_{1}\\right)\\\\0 & 0 & 0 & 0 & 0 & 0 & 0 & 0 & 0 & 0 & 0 & 0 & 0 & 0 & 0 & \\psi_{1} + \\psi_{2} & g \\cos{\\left(\\theta_{1} + \\theta_{2} \\right)} + 1.0 l_{1} \\phi_{1} v_{1} \\sin{\\left(\\theta_{2} \\right)} + l_{1} \\psi_{1} \\cos{\\left(\\theta_{2} \\right)} & - g \\sin{\\left(\\theta_{1} + \\theta_{2} \\right)} + 1.0 l_{1} \\phi_{1} v_{1} \\cos{\\left(\\theta_{2} \\right)} - l_{1} \\psi_{1} \\sin{\\left(\\theta_{2} \\right)} & 0 & 0\\end{array}\\right]$"
      ],
      "text/plain": [
       "Matrix([\n",
       "[0, 0, 0, 0, 0, psi_1, g*cos(theta_1), -g*sin(theta_1), 0, 0, 0, 0, 0, 0, 0, psi_1 + psi_2, g*cos(theta_1 + theta_2) - 1.0*l1*phi_2*v_2*sin(theta_2) + 2*l1*psi_1*cos(theta_2) + l1*psi_2*cos(theta_2) - 2*l1*(0.5*phi_1*v_2 + 0.5*phi_2*v_1)*sin(theta_2), -g*sin(theta_1 + theta_2) - 1.0*l1*phi_2*v_2*cos(theta_2) - 2*l1*psi_1*sin(theta_2) - l1*psi_2*sin(theta_2) - 2*l1*(0.5*phi_1*v_2 + 0.5*phi_2*v_1)*cos(theta_2), 0, l1*(g*cos(theta_1) + l1*psi_1)],\n",
       "[0, 0, 0, 0, 0,     0,              0,               0, 0, 0, 0, 0, 0, 0, 0, psi_1 + psi_2,                                                                               g*cos(theta_1 + theta_2) + 1.0*l1*phi_1*v_1*sin(theta_2) + l1*psi_1*cos(theta_2),                                                                               -g*sin(theta_1 + theta_2) + 1.0*l1*phi_1*v_1*cos(theta_2) - l1*psi_1*sin(theta_2), 0,                              0]])"
      ]
     },
     "execution_count": 33,
     "metadata": {},
     "output_type": "execute_result"
    }
   ],
   "source": [
    "Y_Full"
   ]
  },
  {
   "cell_type": "markdown",
   "metadata": {},
   "source": [
    "Verify the result."
   ]
  },
  {
   "cell_type": "code",
   "execution_count": 34,
   "metadata": {},
   "outputs": [
    {
     "data": {
      "text/latex": [
       "$\\displaystyle \\left[\\begin{matrix}0\\\\0\\end{matrix}\\right]$"
      ],
      "text/plain": [
       "Matrix([\n",
       "[0],\n",
       "[0]])"
      ]
     },
     "execution_count": 34,
     "metadata": {},
     "output_type": "execute_result"
    }
   ],
   "source": [
    "p.simplify(M @ psi + C @ phi + G - Y_Full @ p_vec)"
   ]
  },
  {
   "cell_type": "markdown",
   "metadata": {},
   "source": [
    "$Y$.\n"
   ]
  },
  {
   "cell_type": "code",
   "execution_count": 35,
   "metadata": {},
   "outputs": [
    {
     "name": "stdout",
     "output_type": "stream",
     "text": [
      "Y's shape is (2, 7)\n"
     ]
    },
    {
     "data": {
      "text/latex": [
       "$\\displaystyle \\left[\\begin{matrix}\\psi_{1} & g \\cos{\\left(\\theta_{1} \\right)} & - g \\sin{\\left(\\theta_{1} \\right)} & \\psi_{1} + \\psi_{2} & g \\cos{\\left(\\theta_{1} + \\theta_{2} \\right)} - 1.0 l_{1} \\phi_{2} v_{2} \\sin{\\left(\\theta_{2} \\right)} + 2 l_{1} \\psi_{1} \\cos{\\left(\\theta_{2} \\right)} + l_{1} \\psi_{2} \\cos{\\left(\\theta_{2} \\right)} - 2 l_{1} \\left(0.5 \\phi_{1} v_{2} + 0.5 \\phi_{2} v_{1}\\right) \\sin{\\left(\\theta_{2} \\right)} & - g \\sin{\\left(\\theta_{1} + \\theta_{2} \\right)} - 1.0 l_{1} \\phi_{2} v_{2} \\cos{\\left(\\theta_{2} \\right)} - 2 l_{1} \\psi_{1} \\sin{\\left(\\theta_{2} \\right)} - l_{1} \\psi_{2} \\sin{\\left(\\theta_{2} \\right)} - 2 l_{1} \\left(0.5 \\phi_{1} v_{2} + 0.5 \\phi_{2} v_{1}\\right) \\cos{\\left(\\theta_{2} \\right)} & l_{1} \\left(g \\cos{\\left(\\theta_{1} \\right)} + l_{1} \\psi_{1}\\right)\\\\0 & 0 & 0 & \\psi_{1} + \\psi_{2} & g \\cos{\\left(\\theta_{1} + \\theta_{2} \\right)} + 1.0 l_{1} \\phi_{1} v_{1} \\sin{\\left(\\theta_{2} \\right)} + l_{1} \\psi_{1} \\cos{\\left(\\theta_{2} \\right)} & - g \\sin{\\left(\\theta_{1} + \\theta_{2} \\right)} + 1.0 l_{1} \\phi_{1} v_{1} \\cos{\\left(\\theta_{2} \\right)} - l_{1} \\psi_{1} \\sin{\\left(\\theta_{2} \\right)} & 0\\end{matrix}\\right]$"
      ],
      "text/plain": [
       "Matrix([\n",
       "[psi_1, g*cos(theta_1), -g*sin(theta_1), psi_1 + psi_2, g*cos(theta_1 + theta_2) - 1.0*l1*phi_2*v_2*sin(theta_2) + 2*l1*psi_1*cos(theta_2) + l1*psi_2*cos(theta_2) - 2*l1*(0.5*phi_1*v_2 + 0.5*phi_2*v_1)*sin(theta_2), -g*sin(theta_1 + theta_2) - 1.0*l1*phi_2*v_2*cos(theta_2) - 2*l1*psi_1*sin(theta_2) - l1*psi_2*sin(theta_2) - 2*l1*(0.5*phi_1*v_2 + 0.5*phi_2*v_1)*cos(theta_2), l1*(g*cos(theta_1) + l1*psi_1)],\n",
       "[    0,              0,               0, psi_1 + psi_2,                                                                               g*cos(theta_1 + theta_2) + 1.0*l1*phi_1*v_1*sin(theta_2) + l1*psi_1*cos(theta_2),                                                                               -g*sin(theta_1 + theta_2) + 1.0*l1*phi_1*v_1*cos(theta_2) - l1*psi_1*sin(theta_2),                              0]])"
      ]
     },
     "execution_count": 35,
     "metadata": {},
     "output_type": "execute_result"
    }
   ],
   "source": [
    "print(\"Y's shape is\", Y.shape)\n",
    "Y"
   ]
  },
  {
   "cell_type": "markdown",
   "metadata": {},
   "source": [
    "Dynamical regression vector $\\vec{y}$.\n"
   ]
  },
  {
   "cell_type": "code",
   "execution_count": 36,
   "metadata": {},
   "outputs": [
    {
     "data": {
      "text/latex": [
       "$\\displaystyle \\left[\\begin{matrix}\\psi_{1}\\\\g \\cos{\\left(\\theta_{1} \\right)}\\\\- g \\sin{\\left(\\theta_{1} \\right)}\\\\\\psi_{1} + \\psi_{2}\\\\g \\cos{\\left(\\theta_{1} + \\theta_{2} \\right)} - 1.0 l_{1} \\phi_{2} v_{2} \\sin{\\left(\\theta_{2} \\right)} + 2 l_{1} \\psi_{1} \\cos{\\left(\\theta_{2} \\right)} + l_{1} \\psi_{2} \\cos{\\left(\\theta_{2} \\right)} - 2 l_{1} \\left(0.5 \\phi_{1} v_{2} + 0.5 \\phi_{2} v_{1}\\right) \\sin{\\left(\\theta_{2} \\right)}\\\\- g \\sin{\\left(\\theta_{1} + \\theta_{2} \\right)} - 1.0 l_{1} \\phi_{2} v_{2} \\cos{\\left(\\theta_{2} \\right)} - 2 l_{1} \\psi_{1} \\sin{\\left(\\theta_{2} \\right)} - l_{1} \\psi_{2} \\sin{\\left(\\theta_{2} \\right)} - 2 l_{1} \\left(0.5 \\phi_{1} v_{2} + 0.5 \\phi_{2} v_{1}\\right) \\cos{\\left(\\theta_{2} \\right)}\\\\l_{1} \\left(g \\cos{\\left(\\theta_{1} \\right)} + l_{1} \\psi_{1}\\right)\\\\0\\\\0\\\\0\\\\\\psi_{1} + \\psi_{2}\\\\g \\cos{\\left(\\theta_{1} + \\theta_{2} \\right)} + 1.0 l_{1} \\phi_{1} v_{1} \\sin{\\left(\\theta_{2} \\right)} + l_{1} \\psi_{1} \\cos{\\left(\\theta_{2} \\right)}\\\\- g \\sin{\\left(\\theta_{1} + \\theta_{2} \\right)} + 1.0 l_{1} \\phi_{1} v_{1} \\cos{\\left(\\theta_{2} \\right)} - l_{1} \\psi_{1} \\sin{\\left(\\theta_{2} \\right)}\\\\0\\end{matrix}\\right]$"
      ],
      "text/plain": [
       "Matrix([\n",
       "[                                                                                                                                                          psi_1],\n",
       "[                                                                                                                                                 g*cos(theta_1)],\n",
       "[                                                                                                                                                -g*sin(theta_1)],\n",
       "[                                                                                                                                                  psi_1 + psi_2],\n",
       "[ g*cos(theta_1 + theta_2) - 1.0*l1*phi_2*v_2*sin(theta_2) + 2*l1*psi_1*cos(theta_2) + l1*psi_2*cos(theta_2) - 2*l1*(0.5*phi_1*v_2 + 0.5*phi_2*v_1)*sin(theta_2)],\n",
       "[-g*sin(theta_1 + theta_2) - 1.0*l1*phi_2*v_2*cos(theta_2) - 2*l1*psi_1*sin(theta_2) - l1*psi_2*sin(theta_2) - 2*l1*(0.5*phi_1*v_2 + 0.5*phi_2*v_1)*cos(theta_2)],\n",
       "[                                                                                                                                 l1*(g*cos(theta_1) + l1*psi_1)],\n",
       "[                                                                                                                                                              0],\n",
       "[                                                                                                                                                              0],\n",
       "[                                                                                                                                                              0],\n",
       "[                                                                                                                                                  psi_1 + psi_2],\n",
       "[                                                                               g*cos(theta_1 + theta_2) + 1.0*l1*phi_1*v_1*sin(theta_2) + l1*psi_1*cos(theta_2)],\n",
       "[                                                                              -g*sin(theta_1 + theta_2) + 1.0*l1*phi_1*v_1*cos(theta_2) - l1*psi_1*sin(theta_2)],\n",
       "[                                                                                                                                                              0]])"
      ]
     },
     "execution_count": 36,
     "metadata": {},
     "output_type": "execute_result"
    }
   ],
   "source": [
    "y = Y.reshape(Y.shape[0] * Y.shape[1], 1)\n",
    "y"
   ]
  },
  {
   "cell_type": "markdown",
   "metadata": {},
   "source": [
    "Jiang's manual simplification."
   ]
  },
  {
   "cell_type": "code",
   "execution_count": 37,
   "metadata": {},
   "outputs": [
    {
     "data": {
      "text/latex": [
       "$\\displaystyle \\left[\\begin{matrix}\\psi_{1} & g \\cos{\\left(\\theta_{1} \\right)} & \\psi_{1} + \\psi_{2} & g \\cos{\\left(\\theta_{1} + \\theta_{2} \\right)} - 1.0 l_{1} \\phi_{2} v_{2} \\sin{\\left(\\theta_{2} \\right)} + 2 l_{1} \\psi_{1} \\cos{\\left(\\theta_{2} \\right)} + l_{1} \\psi_{2} \\cos{\\left(\\theta_{2} \\right)} - 2 l_{1} \\left(0.5 \\phi_{1} v_{2} + 0.5 \\phi_{2} v_{1}\\right) \\sin{\\left(\\theta_{2} \\right)} & l_{1} \\left(g \\cos{\\left(\\theta_{1} \\right)} + l_{1} \\psi_{1}\\right)\\\\0 & 0 & \\psi_{1} + \\psi_{2} & g \\cos{\\left(\\theta_{1} + \\theta_{2} \\right)} + 1.0 l_{1} \\phi_{1} v_{1} \\sin{\\left(\\theta_{2} \\right)} + l_{1} \\psi_{1} \\cos{\\left(\\theta_{2} \\right)} & 0\\end{matrix}\\right]$"
      ],
      "text/plain": [
       "Matrix([\n",
       "[psi_1, g*cos(theta_1), psi_1 + psi_2, g*cos(theta_1 + theta_2) - 1.0*l1*phi_2*v_2*sin(theta_2) + 2*l1*psi_1*cos(theta_2) + l1*psi_2*cos(theta_2) - 2*l1*(0.5*phi_1*v_2 + 0.5*phi_2*v_1)*sin(theta_2), l1*(g*cos(theta_1) + l1*psi_1)],\n",
       "[    0,              0, psi_1 + psi_2,                                                                               g*cos(theta_1 + theta_2) + 1.0*l1*phi_1*v_1*sin(theta_2) + l1*psi_1*cos(theta_2),                              0]])"
      ]
     },
     "execution_count": 37,
     "metadata": {},
     "output_type": "execute_result"
    }
   ],
   "source": [
    "Y[:, [0, 1, 3, 4, 6]]"
   ]
  },
  {
   "cell_type": "markdown",
   "metadata": {},
   "source": [
    "Corresponding to following elements in $\\vec{y}$."
   ]
  },
  {
   "cell_type": "code",
   "execution_count": 38,
   "metadata": {},
   "outputs": [
    {
     "data": {
      "text/plain": [
       "True"
      ]
     },
     "execution_count": 38,
     "metadata": {},
     "output_type": "execute_result"
    }
   ],
   "source": [
    "y[[0, 1, 3, 4, 6, 7, 8, 10, 11, 13], :] == Y[:, [0, 1, 3, 4, 6]].reshape(10, 1)"
   ]
  },
  {
   "cell_type": "code",
   "execution_count": 39,
   "metadata": {},
   "outputs": [
    {
     "name": "stdout",
     "output_type": "stream",
     "text": [
      "\\left[\\begin{matrix}\\psi_{1}\\\\g \\cos{\\left(\\theta_{1} \\right)}\\\\\\psi_{1} + \\psi_{2}\\\\g \\cos{\\left(\\theta_{1} + \\theta_{2} \\right)} - 1.0 l_{1} \\phi_{2} v_{2} \\sin{\\left(\\theta_{2} \\right)} + 2 l_{1} \\psi_{1} \\cos{\\left(\\theta_{2} \\right)} + l_{1} \\psi_{2} \\cos{\\left(\\theta_{2} \\right)} - 2 l_{1} \\left(0.5 \\phi_{1} v_{2} + 0.5 \\phi_{2} v_{1}\\right) \\sin{\\left(\\theta_{2} \\right)}\\\\l_{1} \\left(g \\cos{\\left(\\theta_{1} \\right)} + l_{1} \\psi_{1}\\right)\\\\0\\\\0\\\\\\psi_{1} + \\psi_{2}\\\\g \\cos{\\left(\\theta_{1} + \\theta_{2} \\right)} + 1.0 l_{1} \\phi_{1} v_{1} \\sin{\\left(\\theta_{2} \\right)} + l_{1} \\psi_{1} \\cos{\\left(\\theta_{2} \\right)}\\\\0\\end{matrix}\\right]\n"
     ]
    }
   ],
   "source": [
    "print(p.latex(y[[0, 1, 3, 4, 6, 7, 8, 10, 11, 13], :]))"
   ]
  },
  {
   "cell_type": "markdown",
   "metadata": {},
   "source": [
    "Check reshaping."
   ]
  },
  {
   "cell_type": "code",
   "execution_count": 40,
   "metadata": {},
   "outputs": [
    {
     "data": {
      "text/plain": [
       "True"
      ]
     },
     "execution_count": 40,
     "metadata": {},
     "output_type": "execute_result"
    }
   ],
   "source": [
    "y.reshape(2, 7) == Y"
   ]
  }
 ],
 "metadata": {
  "kernelspec": {
   "display_name": "DynReg",
   "language": "python",
   "name": "python3"
  },
  "language_info": {
   "codemirror_mode": {
    "name": "ipython",
    "version": 3
   },
   "file_extension": ".py",
   "mimetype": "text/x-python",
   "name": "python",
   "nbconvert_exporter": "python",
   "pygments_lexer": "ipython3",
   "version": "3.10.16"
  }
 },
 "nbformat": 4,
 "nbformat_minor": 4
}
